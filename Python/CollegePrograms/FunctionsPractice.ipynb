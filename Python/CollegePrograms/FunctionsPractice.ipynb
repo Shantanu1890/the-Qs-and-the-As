{
 "cells": [
  {
   "cell_type": "code",
   "execution_count": 4,
   "metadata": {},
   "outputs": [
    {
     "name": "stdout",
     "output_type": "stream",
     "text": [
      "24\n"
     ]
    }
   ],
   "source": [
    "def checkFunc(x):\n",
    "    if x == 1:\n",
    "        return x\n",
    "    else:\n",
    "        return x*checkFunc((x - 1))\n",
    "print(checkFunc(4))"
   ]
  },
  {
   "cell_type": "code",
   "execution_count": 19,
   "metadata": {},
   "outputs": [
    {
     "data": {
      "text/plain": [
       "10"
      ]
     },
     "execution_count": 19,
     "metadata": {},
     "output_type": "execute_result"
    }
   ],
   "source": [
    "def sumOfNumbers(n):\n",
    "    if n == 1:\n",
    "        return n\n",
    "    else:\n",
    "        return n + sumOfNumbers(n - 1)\n",
    "sumOfNumbers(4)"
   ]
  },
  {
   "cell_type": "code",
   "execution_count": 14,
   "metadata": {},
   "outputs": [
    {
     "name": "stdout",
     "output_type": "stream",
     "text": [
      "Armstrong\n"
     ]
    }
   ],
   "source": [
    "def armStrong (x):\n",
    "    num = x\n",
    "    myList = []\n",
    "    sum1 = 0\n",
    "    \n",
    "    while x > 0:\n",
    "        myList.append( x % 10 ) \n",
    "        x = x // 10\n",
    "        \n",
    "    for i in myList:\n",
    "        sum1 = sum1 + (i ** len(myList))\n",
    "        \n",
    "    if sum1 == num:\n",
    "        return True\n",
    "    else:\n",
    "        return False\n",
    "\n",
    "if armStrong(153):\n",
    "    print(\"Armstrong\")\n",
    "else:\n",
    "    print(\"Not an Armstrong\")\n",
    "        "
   ]
  },
  {
   "cell_type": "code",
   "execution_count": 17,
   "metadata": {},
   "outputs": [],
   "source": [
    "def even (l):\n",
    "    x = []\n",
    "    for i in l:\n",
    "        if i % 2 == 0:\n",
    "            x.append(i)\n",
    "        else:\n",
    "            pass\n",
    "    print(x)"
   ]
  },
  {
   "cell_type": "code",
   "execution_count": 18,
   "metadata": {},
   "outputs": [
    {
     "name": "stdout",
     "output_type": "stream",
     "text": [
      "[2, 4, 6]\n"
     ]
    }
   ],
   "source": [
    "even([1, 2, 3, 4, 5, 6, 7])"
   ]
  },
  {
   "cell_type": "code",
   "execution_count": 26,
   "metadata": {},
   "outputs": [
    {
     "name": "stdout",
     "output_type": "stream",
     "text": [
      "[0, 1, 4, 9, 16, 25, 36, 49, 64, 81, 100, 121, 144, 169, 196, 225, 256, 289, 324, 361, 400, 441, 484, 529, 576, 625, 676, 729, 784, 841, 900, 961, 1024, 1089, 1156, 1225, 1296, 1369, 1444, 1521, 1600, 1681, 1764, 1849, 1936, 2025, 2116, 2209, 2304, 2401, 2500, 2601, 2704, 2809, 2916, 3025, 3136, 3249, 3364, 3481, 3600, 3721, 3844, 3969, 4096, 4225, 4356, 4489, 4624, 4761, 4900, 5041, 5184, 5329, 5476, 5625, 5776, 5929, 6084, 6241, 6400, 6561, 6724, 6889, 7056, 7225, 7396, 7569, 7744, 7921, 8100, 8281, 8464, 8649, 8836, 9025, 9216, 9409, 9604, 9801]\n"
     ]
    }
   ],
   "source": [
    "def squares():\n",
    "    print(list(map(lambda x: x ** 2, range(0, 100))))\n",
    "squares()"
   ]
  },
  {
   "cell_type": "code",
   "execution_count": 33,
   "metadata": {},
   "outputs": [
    {
     "name": "stdout",
     "output_type": "stream",
     "text": [
      "0 1 1 2 3 5 8 13 21 34 55 89 "
     ]
    }
   ],
   "source": [
    "def fibo(n):\n",
    "    a = 0  \n",
    "    b = 1\n",
    "    print(a, b,end = ' '  )\n",
    "    for i in range (0, n):\n",
    "        c = a + b\n",
    "        print(c,end=' ')\n",
    "        a = b\n",
    "        b = c\n",
    "\n",
    "fibo(10)\n",
    "   "
   ]
  },
  {
   "cell_type": "code",
   "execution_count": null,
   "metadata": {},
   "outputs": [],
   "source": []
  }
 ],
 "metadata": {
  "kernelspec": {
   "display_name": "Python 3",
   "language": "python",
   "name": "python3"
  },
  "language_info": {
   "codemirror_mode": {
    "name": "ipython",
    "version": 3
   },
   "file_extension": ".py",
   "mimetype": "text/x-python",
   "name": "python",
   "nbconvert_exporter": "python",
   "pygments_lexer": "ipython3",
   "version": "3.8.3"
  }
 },
 "nbformat": 4,
 "nbformat_minor": 4
}
