{
 "cells": [
  {
   "cell_type": "code",
   "execution_count": 4,
   "metadata": {},
   "outputs": [
    {
     "name": "stdout",
     "output_type": "stream",
     "text": [
      "[2, 2, 3, 5, 5]\n"
     ]
    }
   ],
   "source": [
    "#bubble sort (Method 1)\n",
    "arr = [2, 5, 3, 2, 5]\n",
    "\n",
    "n = len(arr) \n",
    "for i in range(n): \n",
    " \n",
    "    for j in range(0, n-i-1): \n",
    "          if arr[j] > arr[j+1] : \n",
    "                arr[j], arr[j+1] = arr[j+1], arr[j] \n",
    "print(arr)"
   ]
  },
  {
   "cell_type": "code",
   "execution_count": 1,
   "metadata": {},
   "outputs": [
    {
     "name": "stdout",
     "output_type": "stream",
     "text": [
      "[2, 3, 5, 5, 7]\n"
     ]
    }
   ],
   "source": [
    "#bubble sort (Method 2)\n",
    "def bubbleSort(list1):\n",
    "    for i in range(len(list1)):\n",
    "        for j in range(len(list1) - 1):\n",
    "            if list1[j] > list1[j+1]:\n",
    "                list1[j], list1[j+1] = list1[j+1], list1[j]\n",
    "    return list1\n",
    "                \n",
    "res = bubbleSort([3, 5, 2, 5, 7])\n",
    "print(res)"
   ]
  },
  {
   "cell_type": "code",
   "execution_count": 5,
   "metadata": {},
   "outputs": [
    {
     "name": "stdout",
     "output_type": "stream",
     "text": [
      "[1, 2, 3, 4, 6, 7, 9, 10]\n"
     ]
    }
   ],
   "source": [
    "#Selection Sort (Method 1)\n",
    "def selectionSort(itemsList):\n",
    "    n = len(itemsList)\n",
    "    for i in range(n - 1): \n",
    "        minValueIndex = i\n",
    "\n",
    "        for j in range(i + 1, n):\n",
    "            if itemsList[j] < itemsList[minValueIndex] :\n",
    "                minValueIndex = j\n",
    "\n",
    "        if minValueIndex != i :\n",
    "            temp = itemsList[i]\n",
    "            itemsList[i] = itemsList[minValueIndex]\n",
    "            itemsList[minValueIndex] = temp\n",
    "\n",
    "    return itemsList\n",
    "res = selectionSort([1, 4, 3, 6, 7, 2, 9, 10])\n",
    "print(res)"
   ]
  },
  {
   "cell_type": "code",
   "execution_count": 6,
   "metadata": {},
   "outputs": [
    {
     "name": "stdout",
     "output_type": "stream",
     "text": [
      "[1, 3, 3, 5, 6, 9, 11]\n"
     ]
    }
   ],
   "source": [
    "#Insertion sort (Method 1)\n",
    "def insertionSort(array):\n",
    "    for index in range(1, len(array)):\n",
    "        currentValue = array[index]\n",
    "        currentPosition = index\n",
    "        while currentPosition > 0 and array[currentPosition - 1] > currentValue:\n",
    "            array[currentPosition] = array[currentPosition -1]\n",
    "            currentPosition = currentPosition - 1\n",
    "        array[currentPosition] = currentValue\n",
    "    return array\n",
    "res = insertionSort([3, 5, 6, 1, 3, 9, 11])\n",
    "print(res)"
   ]
  },
  {
   "cell_type": "code",
   "execution_count": null,
   "metadata": {},
   "outputs": [],
   "source": []
  }
 ],
 "metadata": {
  "kernelspec": {
   "display_name": "Python 3",
   "language": "python",
   "name": "python3"
  },
  "language_info": {
   "codemirror_mode": {
    "name": "ipython",
    "version": 3
   },
   "file_extension": ".py",
   "mimetype": "text/x-python",
   "name": "python",
   "nbconvert_exporter": "python",
   "pygments_lexer": "ipython3",
   "version": "3.8.3"
  }
 },
 "nbformat": 4,
 "nbformat_minor": 4
}
