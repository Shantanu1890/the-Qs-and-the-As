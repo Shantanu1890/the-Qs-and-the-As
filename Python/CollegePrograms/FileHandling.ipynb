{
 "cells": [
  {
   "cell_type": "code",
   "execution_count": 1,
   "metadata": {},
   "outputs": [
    {
     "name": "stdout",
     "output_type": "stream",
     "text": [
      "lollol my name isn't pranavv, its Pranav Viswanathan!lol my name isn't pranavv, its Pranav Viswanathan!lol my name isn't pranavv, its Pranav Viswanathan!\n",
      "lollol my name isn't pranavv, its Pranav Viswanathan!lol my name isn't pranavv, its Pranav Viswanathan!lol my name isn't pranavv, its Pranav Viswanathan!lol my name isn't pranavv, its Pranav Viswanathan!\n",
      "Name of the file :  D:\\myTxt.txt\n",
      "Mode :  r\n"
     ]
    }
   ],
   "source": [
    "f = open('D:\\myTxt.txt','r')\n",
    "print(f.read())\n",
    "f.close()\n",
    "f2 = open('D:\\myTxt.txt','a')\n",
    "f2.write(\"lol my name isn't pranavv, its Pranav Viswanathan!\")\n",
    "f2.close()\n",
    "f = open('D:\\myTxt.txt','r')\n",
    "print(f.read())\n",
    "print('Name of the file : ', f.name)\n",
    "print(\"Mode : \", f.mode)\n",
    "f.close()"
   ]
  },
  {
   "cell_type": "code",
   "execution_count": null,
   "metadata": {},
   "outputs": [],
   "source": []
  }
 ],
 "metadata": {
  "kernelspec": {
   "display_name": "Python 3",
   "language": "python",
   "name": "python3"
  },
  "language_info": {
   "codemirror_mode": {
    "name": "ipython",
    "version": 3
   },
   "file_extension": ".py",
   "mimetype": "text/x-python",
   "name": "python",
   "nbconvert_exporter": "python",
   "pygments_lexer": "ipython3",
   "version": "3.8.3"
  }
 },
 "nbformat": 4,
 "nbformat_minor": 4
}
